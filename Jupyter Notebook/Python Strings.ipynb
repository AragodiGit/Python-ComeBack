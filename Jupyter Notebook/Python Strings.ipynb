{
 "cells": [
  {
   "cell_type": "code",
   "execution_count": 1,
   "id": "6404259e",
   "metadata": {},
   "outputs": [],
   "source": [
    "string = \"I am learning python\""
   ]
  },
  {
   "cell_type": "code",
   "execution_count": 2,
   "id": "f561c2a9",
   "metadata": {},
   "outputs": [
    {
     "data": {
      "text/plain": [
       "'I rgt'"
      ]
     },
     "execution_count": 2,
     "metadata": {},
     "output_type": "execute_result"
    }
   ],
   "source": [
    "string[::4]"
   ]
  },
  {
   "cell_type": "code",
   "execution_count": 4,
   "id": "98733f20",
   "metadata": {},
   "outputs": [
    {
     "name": "stdout",
     "output_type": "stream",
     "text": [
      "20\n"
     ]
    }
   ],
   "source": [
    "c = 0\n",
    "for i in string:\n",
    "    c += 1\n",
    "print(c)\n",
    "print(len(string))\n"
   ]
  },
  {
   "cell_type": "code",
   "execution_count": null,
   "id": "66d7e392",
   "metadata": {},
   "outputs": [],
   "source": []
  }
 ],
 "metadata": {
  "kernelspec": {
   "display_name": "Python 3 (ipykernel)",
   "language": "python",
   "name": "python3"
  },
  "language_info": {
   "codemirror_mode": {
    "name": "ipython",
    "version": 3
   },
   "file_extension": ".py",
   "mimetype": "text/x-python",
   "name": "python",
   "nbconvert_exporter": "python",
   "pygments_lexer": "ipython3",
   "version": "3.12.4"
  }
 },
 "nbformat": 4,
 "nbformat_minor": 5
}
